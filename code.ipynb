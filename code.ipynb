{
 "cells": [
  {
   "cell_type": "code",
   "execution_count": 1,
   "id": "elder-kansas",
   "metadata": {},
   "outputs": [],
   "source": [
    "import os\n",
    "import numpy as np\n",
    "import pandas as pd\n",
    "import re\n",
    "import matplotlib.pyplot as plt"
   ]
  },
  {
   "cell_type": "markdown",
   "id": "experienced-verse",
   "metadata": {},
   "source": [
    "## Data Cleaning"
   ]
  },
  {
   "cell_type": "code",
   "execution_count": 2,
   "id": "cardiovascular-operator",
   "metadata": {},
   "outputs": [],
   "source": [
    "us_state_abbrev = {\n",
    "    'Alabama': 'AL',\n",
    "    'Alaska': 'AK',\n",
    "    'American Samoa': 'AS',\n",
    "    'Arizona': 'AZ',\n",
    "    'Arkansas': 'AR',\n",
    "    'California': 'CA',\n",
    "    'Colorado': 'CO',\n",
    "    'Connecticut': 'CT',\n",
    "    'Delaware': 'DE',\n",
    "    'District of Columbia': 'DC',\n",
    "    'Florida': 'FL',\n",
    "    'Georgia': 'GA',\n",
    "    'Guam': 'GU',\n",
    "    'Hawaii': 'HI',\n",
    "    'Idaho': 'ID',\n",
    "    'Illinois': 'IL',\n",
    "    'Indiana': 'IN',\n",
    "    'Iowa': 'IA',\n",
    "    'Kansas': 'KS',\n",
    "    'Kentucky': 'KY',\n",
    "    'Louisiana': 'LA',\n",
    "    'Maine': 'ME',\n",
    "    'Maryland': 'MD',\n",
    "    'Massachusetts': 'MA',\n",
    "    'Michigan': 'MI',\n",
    "    'Minnesota': 'MN',\n",
    "    'Mississippi': 'MS',\n",
    "    'Missouri': 'MO',\n",
    "    'Montana': 'MT',\n",
    "    'Nebraska': 'NE',\n",
    "    'Nevada': 'NV',\n",
    "    'New Hampshire': 'NH',\n",
    "    'New Jersey': 'NJ',\n",
    "    'New Mexico': 'NM',\n",
    "    'New York': 'NY',\n",
    "    'North Carolina': 'NC',\n",
    "    'North Dakota': 'ND',\n",
    "    'Northern Mariana Islands':'MP',\n",
    "    'Ohio': 'OH',\n",
    "    'Oklahoma': 'OK',\n",
    "    'Oregon': 'OR',\n",
    "    'Pennsylvania': 'PA',\n",
    "    'Puerto Rico': 'PR',\n",
    "    'Rhode Island': 'RI',\n",
    "    'South Carolina': 'SC',\n",
    "    'South Dakota': 'SD',\n",
    "    'Tennessee': 'TN',\n",
    "    'Texas': 'TX',\n",
    "    'Utah': 'UT',\n",
    "    'Vermont': 'VT',\n",
    "    'Virgin Islands': 'VI',\n",
    "    'Virginia': 'VA',\n",
    "    'Washington': 'WA',\n",
    "    'West Virginia': 'WV',\n",
    "    'Wisconsin': 'WI',\n",
    "    'Wyoming': 'WY'\n",
    "}"
   ]
  },
  {
   "cell_type": "code",
   "execution_count": 3,
   "id": "fitting-ending",
   "metadata": {},
   "outputs": [],
   "source": [
    "df_pk = pd.read_csv(os.path.join('data', 'PoliceKillingsUS.csv'), parse_dates=['date'], encoding='latin1')\n",
    "df_population = pd.read_csv(os.path.join('data', 'citypopulation.csv'))\n",
    "df_income = pd.read_csv(os.path.join('data', 'MedianHouseholdIncome2015.csv'), encoding='latin1')\n",
    "df_poverty = pd.read_csv(os.path.join('data', 'PercentagePeopleBelowPovertyLevel.csv'), encoding='latin1')\n",
    "df_educ = pd.read_csv(os.path.join('data', 'PercentOver25CompletedHighSchool.csv'), encoding='latin1')\n",
    "df_race = pd.read_csv(os.path.join('data', 'ShareRaceByCity.csv'), encoding='latin1')"
   ]
  },
  {
   "cell_type": "code",
   "execution_count": 4,
   "id": "alive-variance",
   "metadata": {},
   "outputs": [],
   "source": [
    "for df in [df_pk, df_population, df_income, df_poverty, df_educ, df_race]:\n",
    "    df.columns = df.columns.str.lower()\n",
    "    df.rename({'geographic area':'state'},axis=1, inplace=True)"
   ]
  },
  {
   "cell_type": "code",
   "execution_count": 5,
   "id": "extensive-enterprise",
   "metadata": {},
   "outputs": [
    {
     "data": {
      "text/html": [
       "<div>\n",
       "<style scoped>\n",
       "    .dataframe tbody tr th:only-of-type {\n",
       "        vertical-align: middle;\n",
       "    }\n",
       "\n",
       "    .dataframe tbody tr th {\n",
       "        vertical-align: top;\n",
       "    }\n",
       "\n",
       "    .dataframe thead th {\n",
       "        text-align: right;\n",
       "    }\n",
       "</style>\n",
       "<table border=\"1\" class=\"dataframe\">\n",
       "  <thead>\n",
       "    <tr style=\"text-align: right;\">\n",
       "      <th></th>\n",
       "      <th>id</th>\n",
       "      <th>name</th>\n",
       "      <th>date</th>\n",
       "      <th>manner_of_death</th>\n",
       "      <th>armed</th>\n",
       "      <th>age</th>\n",
       "      <th>gender</th>\n",
       "      <th>race</th>\n",
       "      <th>city</th>\n",
       "      <th>state</th>\n",
       "      <th>signs_of_mental_illness</th>\n",
       "      <th>threat_level</th>\n",
       "      <th>flee</th>\n",
       "      <th>body_camera</th>\n",
       "    </tr>\n",
       "  </thead>\n",
       "  <tbody>\n",
       "    <tr>\n",
       "      <th>0</th>\n",
       "      <td>3</td>\n",
       "      <td>Tim Elliot</td>\n",
       "      <td>2015-02-01</td>\n",
       "      <td>shot</td>\n",
       "      <td>gun</td>\n",
       "      <td>53.0</td>\n",
       "      <td>M</td>\n",
       "      <td>A</td>\n",
       "      <td>Shelton</td>\n",
       "      <td>WA</td>\n",
       "      <td>True</td>\n",
       "      <td>attack</td>\n",
       "      <td>Not fleeing</td>\n",
       "      <td>False</td>\n",
       "    </tr>\n",
       "    <tr>\n",
       "      <th>1</th>\n",
       "      <td>4</td>\n",
       "      <td>Lewis Lee Lembke</td>\n",
       "      <td>2015-02-01</td>\n",
       "      <td>shot</td>\n",
       "      <td>gun</td>\n",
       "      <td>47.0</td>\n",
       "      <td>M</td>\n",
       "      <td>W</td>\n",
       "      <td>Aloha</td>\n",
       "      <td>OR</td>\n",
       "      <td>False</td>\n",
       "      <td>attack</td>\n",
       "      <td>Not fleeing</td>\n",
       "      <td>False</td>\n",
       "    </tr>\n",
       "  </tbody>\n",
       "</table>\n",
       "</div>"
      ],
      "text/plain": [
       "   id              name       date manner_of_death armed   age gender race  \\\n",
       "0   3        Tim Elliot 2015-02-01            shot   gun  53.0      M    A   \n",
       "1   4  Lewis Lee Lembke 2015-02-01            shot   gun  47.0      M    W   \n",
       "\n",
       "      city state  signs_of_mental_illness threat_level         flee  \\\n",
       "0  Shelton    WA                     True       attack  Not fleeing   \n",
       "1    Aloha    OR                    False       attack  Not fleeing   \n",
       "\n",
       "   body_camera  \n",
       "0        False  \n",
       "1        False  "
      ]
     },
     "execution_count": 5,
     "metadata": {},
     "output_type": "execute_result"
    }
   ],
   "source": [
    "df_pk.head(2)"
   ]
  },
  {
   "cell_type": "code",
   "execution_count": 6,
   "id": "complete-denmark",
   "metadata": {},
   "outputs": [],
   "source": [
    "df_pk_city = df_pk.groupby(['state', 'city']).count()['id'].reset_index().rename({'id':'count'},axis=1)"
   ]
  },
  {
   "cell_type": "code",
   "execution_count": 7,
   "id": "adult-dynamics",
   "metadata": {},
   "outputs": [
    {
     "data": {
      "text/html": [
       "<div>\n",
       "<style scoped>\n",
       "    .dataframe tbody tr th:only-of-type {\n",
       "        vertical-align: middle;\n",
       "    }\n",
       "\n",
       "    .dataframe tbody tr th {\n",
       "        vertical-align: top;\n",
       "    }\n",
       "\n",
       "    .dataframe thead th {\n",
       "        text-align: right;\n",
       "    }\n",
       "</style>\n",
       "<table border=\"1\" class=\"dataframe\">\n",
       "  <thead>\n",
       "    <tr style=\"text-align: right;\">\n",
       "      <th></th>\n",
       "      <th>state</th>\n",
       "      <th>city</th>\n",
       "      <th>count</th>\n",
       "    </tr>\n",
       "  </thead>\n",
       "  <tbody>\n",
       "    <tr>\n",
       "      <th>0</th>\n",
       "      <td>AK</td>\n",
       "      <td>Anchorage</td>\n",
       "      <td>3</td>\n",
       "    </tr>\n",
       "    <tr>\n",
       "      <th>1</th>\n",
       "      <td>AK</td>\n",
       "      <td>Barrow</td>\n",
       "      <td>1</td>\n",
       "    </tr>\n",
       "    <tr>\n",
       "      <th>2</th>\n",
       "      <td>AK</td>\n",
       "      <td>Big Lake</td>\n",
       "      <td>1</td>\n",
       "    </tr>\n",
       "    <tr>\n",
       "      <th>3</th>\n",
       "      <td>AK</td>\n",
       "      <td>Fairbanks</td>\n",
       "      <td>5</td>\n",
       "    </tr>\n",
       "    <tr>\n",
       "      <th>4</th>\n",
       "      <td>AK</td>\n",
       "      <td>Houston</td>\n",
       "      <td>1</td>\n",
       "    </tr>\n",
       "  </tbody>\n",
       "</table>\n",
       "</div>"
      ],
      "text/plain": [
       "  state       city  count\n",
       "0    AK  Anchorage      3\n",
       "1    AK     Barrow      1\n",
       "2    AK   Big Lake      1\n",
       "3    AK  Fairbanks      5\n",
       "4    AK    Houston      1"
      ]
     },
     "execution_count": 7,
     "metadata": {},
     "output_type": "execute_result"
    }
   ],
   "source": [
    "df_pk_city.head()"
   ]
  },
  {
   "cell_type": "code",
   "execution_count": 8,
   "id": "educated-match",
   "metadata": {},
   "outputs": [],
   "source": [
    "df_population = df_population.drop(columns='state').rename({'name':'city', 'stname':'state'}, axis=1)\n",
    "df_population['state'] = df_population['state'].replace(us_state_abbrev)"
   ]
  },
  {
   "cell_type": "code",
   "execution_count": 9,
   "id": "champion-florist",
   "metadata": {},
   "outputs": [],
   "source": [
    "df_pop_agg = df_population.groupby(['state','city']).mean()['popestimate2015'].reset_index()"
   ]
  },
  {
   "cell_type": "code",
   "execution_count": 10,
   "id": "conditional-upset",
   "metadata": {},
   "outputs": [
    {
     "data": {
      "text/plain": [
       "[(29329, 3), (29322, 3), (29329, 3), (29268, 7), (43959, 3)]"
      ]
     },
     "execution_count": 10,
     "metadata": {},
     "output_type": "execute_result"
    }
   ],
   "source": [
    "[i.shape for i in [df_poverty, df_income, df_educ, df_race, df_pop_agg]]"
   ]
  },
  {
   "cell_type": "code",
   "execution_count": 11,
   "id": "confidential-increase",
   "metadata": {},
   "outputs": [],
   "source": [
    "df_temp_1 = pd.merge(df_poverty, df_income, on=['state', 'city'], how='inner', validate='one_to_one').\\\n",
    "               merge(df_educ, on=['state', 'city'], how='inner', validate='one_to_one').\\\n",
    "               merge(df_race, on=['state', 'city'], how='inner', validate='one_to_one')"
   ]
  },
  {
   "cell_type": "code",
   "execution_count": 12,
   "id": "popular-rough",
   "metadata": {},
   "outputs": [
    {
     "data": {
      "text/plain": [
       "(29115, 10)"
      ]
     },
     "execution_count": 12,
     "metadata": {},
     "output_type": "execute_result"
    }
   ],
   "source": [
    "df_temp_1.shape"
   ]
  },
  {
   "cell_type": "code",
   "execution_count": 13,
   "id": "checked-washer",
   "metadata": {},
   "outputs": [],
   "source": [
    "df_temp_1['city'] = df_temp_1['city'].str.lower().str.replace('city', '').str.replace('town', '').str.replace('cdp', '').str.strip()\n",
    "df_pk_city['city'] = df_pk_city['city'].str.lower().str.replace('city', '').str.replace('town', '').str.replace('cdp', '').str.strip()"
   ]
  },
  {
   "cell_type": "code",
   "execution_count": 14,
   "id": "classified-march",
   "metadata": {},
   "outputs": [
    {
     "data": {
      "text/plain": [
       "(29115, 10)"
      ]
     },
     "execution_count": 14,
     "metadata": {},
     "output_type": "execute_result"
    }
   ],
   "source": [
    "df_temp_1.shape"
   ]
  },
  {
   "cell_type": "code",
   "execution_count": 15,
   "id": "dedicated-knife",
   "metadata": {},
   "outputs": [
    {
     "data": {
      "text/plain": [
       "(29011, 8)"
      ]
     },
     "execution_count": 15,
     "metadata": {},
     "output_type": "execute_result"
    }
   ],
   "source": [
    "df_temp_1.groupby(['state', 'city']).count().shape"
   ]
  },
  {
   "cell_type": "code",
   "execution_count": 16,
   "id": "major-shower",
   "metadata": {},
   "outputs": [
    {
     "data": {
      "text/html": [
       "<div>\n",
       "<style scoped>\n",
       "    .dataframe tbody tr th:only-of-type {\n",
       "        vertical-align: middle;\n",
       "    }\n",
       "\n",
       "    .dataframe tbody tr th {\n",
       "        vertical-align: top;\n",
       "    }\n",
       "\n",
       "    .dataframe thead th {\n",
       "        text-align: right;\n",
       "    }\n",
       "</style>\n",
       "<table border=\"1\" class=\"dataframe\">\n",
       "  <thead>\n",
       "    <tr style=\"text-align: right;\">\n",
       "      <th></th>\n",
       "      <th>state</th>\n",
       "      <th>city</th>\n",
       "      <th>poverty_rate</th>\n",
       "      <th>median income</th>\n",
       "      <th>percent_completed_hs</th>\n",
       "      <th>share_white</th>\n",
       "      <th>share_black</th>\n",
       "      <th>share_native_american</th>\n",
       "      <th>share_asian</th>\n",
       "      <th>share_hispanic</th>\n",
       "    </tr>\n",
       "  </thead>\n",
       "  <tbody>\n",
       "    <tr>\n",
       "      <th>0</th>\n",
       "      <td>AL</td>\n",
       "      <td>abanda</td>\n",
       "      <td>78.8</td>\n",
       "      <td>11207</td>\n",
       "      <td>21.2</td>\n",
       "      <td>67.2</td>\n",
       "      <td>30.2</td>\n",
       "      <td>0</td>\n",
       "      <td>0</td>\n",
       "      <td>1.6</td>\n",
       "    </tr>\n",
       "    <tr>\n",
       "      <th>1</th>\n",
       "      <td>AL</td>\n",
       "      <td>abbeville</td>\n",
       "      <td>29.1</td>\n",
       "      <td>25615</td>\n",
       "      <td>69.1</td>\n",
       "      <td>54.4</td>\n",
       "      <td>41.4</td>\n",
       "      <td>0.1</td>\n",
       "      <td>1</td>\n",
       "      <td>3.1</td>\n",
       "    </tr>\n",
       "    <tr>\n",
       "      <th>2</th>\n",
       "      <td>AL</td>\n",
       "      <td>adamsville</td>\n",
       "      <td>25.5</td>\n",
       "      <td>42575</td>\n",
       "      <td>78.9</td>\n",
       "      <td>52.3</td>\n",
       "      <td>44.9</td>\n",
       "      <td>0.5</td>\n",
       "      <td>0.3</td>\n",
       "      <td>2.3</td>\n",
       "    </tr>\n",
       "    <tr>\n",
       "      <th>3</th>\n",
       "      <td>AL</td>\n",
       "      <td>addison</td>\n",
       "      <td>30.7</td>\n",
       "      <td>37083</td>\n",
       "      <td>81.4</td>\n",
       "      <td>99.1</td>\n",
       "      <td>0.1</td>\n",
       "      <td>0</td>\n",
       "      <td>0.1</td>\n",
       "      <td>0.4</td>\n",
       "    </tr>\n",
       "    <tr>\n",
       "      <th>4</th>\n",
       "      <td>AL</td>\n",
       "      <td>akron</td>\n",
       "      <td>42</td>\n",
       "      <td>21667</td>\n",
       "      <td>68.6</td>\n",
       "      <td>13.2</td>\n",
       "      <td>86.5</td>\n",
       "      <td>0</td>\n",
       "      <td>0</td>\n",
       "      <td>0.3</td>\n",
       "    </tr>\n",
       "  </tbody>\n",
       "</table>\n",
       "</div>"
      ],
      "text/plain": [
       "  state        city poverty_rate median income percent_completed_hs  \\\n",
       "0    AL      abanda         78.8         11207                 21.2   \n",
       "1    AL   abbeville         29.1         25615                 69.1   \n",
       "2    AL  adamsville         25.5         42575                 78.9   \n",
       "3    AL     addison         30.7         37083                 81.4   \n",
       "4    AL       akron           42         21667                 68.6   \n",
       "\n",
       "  share_white share_black share_native_american share_asian share_hispanic  \n",
       "0        67.2        30.2                     0           0            1.6  \n",
       "1        54.4        41.4                   0.1           1            3.1  \n",
       "2        52.3        44.9                   0.5         0.3            2.3  \n",
       "3        99.1         0.1                     0         0.1            0.4  \n",
       "4        13.2        86.5                     0           0            0.3  "
      ]
     },
     "execution_count": 16,
     "metadata": {},
     "output_type": "execute_result"
    }
   ],
   "source": [
    "df_temp_1.head()"
   ]
  },
  {
   "cell_type": "code",
   "execution_count": 17,
   "id": "strong-break",
   "metadata": {},
   "outputs": [],
   "source": [
    "df_temp2 = pd.merge(df_pk_city, df_temp_1, on=['state', 'city'], how='inner')"
   ]
  },
  {
   "cell_type": "code",
   "execution_count": 18,
   "id": "soviet-basis",
   "metadata": {},
   "outputs": [
    {
     "name": "stderr",
     "output_type": "stream",
     "text": [
      "/Users/martinpan/opt/anaconda3/lib/python3.7/site-packages/ipykernel_launcher.py:2: FutureWarning: The default value of regex will change from True to False in a future version.\n",
      "  \n"
     ]
    }
   ],
   "source": [
    "df_population['city'] = df_population['city'].str.lower().str.replace('city', '').str.\\\n",
    "                            replace('town', '').str.replace('township', '').str.replace('village', '').str.replace('cdp', '').str.replace('(pt.)', '').str.strip()"
   ]
  },
  {
   "cell_type": "code",
   "execution_count": 19,
   "id": "young-setup",
   "metadata": {},
   "outputs": [],
   "source": [
    "df_population = df_population.drop_duplicates(subset=['city', 'state'])"
   ]
  },
  {
   "cell_type": "code",
   "execution_count": 20,
   "id": "prescribed-burke",
   "metadata": {},
   "outputs": [],
   "source": [
    "df_temp3 = pd.merge(df_population[['state', 'popestimate2016','city']], df_temp2, on=['state', 'city'], how='inner')"
   ]
  },
  {
   "cell_type": "code",
   "execution_count": 21,
   "id": "bronze-invasion",
   "metadata": {},
   "outputs": [],
   "source": [
    "df = df_temp3.drop_duplicates().reset_index(drop=True)"
   ]
  },
  {
   "cell_type": "code",
   "execution_count": 22,
   "id": "confident-parliament",
   "metadata": {},
   "outputs": [],
   "source": [
    "#df.to_csv('joined.csv',index=False)"
   ]
  },
  {
   "cell_type": "code",
   "execution_count": 23,
   "id": "dying-madonna",
   "metadata": {},
   "outputs": [],
   "source": [
    "df[\"percent_victim\"] = df[\"count\"]/df[\"popestimate2016\"]"
   ]
  },
  {
   "cell_type": "code",
   "execution_count": 24,
   "id": "earlier-sunglasses",
   "metadata": {},
   "outputs": [
    {
     "data": {
      "image/png": "[encoded data removed]",
      "text/plain": [
       "<Figure size 432x288 with 1 Axes>"
      ]
     },
     "metadata": {
      "needs_background": "light"
     },
     "output_type": "display_data"
    }
   ],
   "source": [
    "df[\"percent_victim\"].hist();"
   ]
  },
  {
   "cell_type": "code",
   "execution_count": 25,
   "id": "bacterial-consideration",
   "metadata": {},
   "outputs": [
    {
     "data": {
      "text/plain": [
       "4.18848167539267e-05"
      ]
     },
     "execution_count": 25,
     "metadata": {},
     "output_type": "execute_result"
    }
   ],
   "source": [
    "df[\"percent_victim\"].quantile(0.5)"
   ]
  },
  {
   "cell_type": "code",
   "execution_count": 26,
   "id": "serious-university",
   "metadata": {},
   "outputs": [],
   "source": [
    "df['percent_victim_level'] = np.where(df['percent_victim'] > 5e-05, 1, 0)"
   ]
  },
  {
   "cell_type": "code",
   "execution_count": 27,
   "id": "informal-waterproof",
   "metadata": {},
   "outputs": [],
   "source": [
    "drop_cols = ['popestimate2016', 'count', 'city', 'state', 'percent_victim', 'share_white']"
   ]
  },
  {
   "cell_type": "code",
   "execution_count": 28,
   "id": "disturbed-charter",
   "metadata": {},
   "outputs": [],
   "source": [
    "df = df.drop(columns=drop_cols)"
   ]
  },
  {
   "cell_type": "code",
   "execution_count": 29,
   "id": "hispanic-russian",
   "metadata": {},
   "outputs": [],
   "source": [
    "for col in list(df.select_dtypes('object').columns):\n",
    "    df[col] = df[col].apply(lambda x: re.sub(\"[^0-9]\", \"\", x)).replace('', np.nan)"
   ]
  },
  {
   "cell_type": "code",
   "execution_count": 30,
   "id": "advised-soundtrack",
   "metadata": {},
   "outputs": [],
   "source": [
    "df = df.dropna().astype(float)"
   ]
  },
  {
   "cell_type": "code",
   "execution_count": 31,
   "id": "handed-description",
   "metadata": {},
   "outputs": [],
   "source": [
    "from sklearn.model_selection import train_test_split"
   ]
  },
  {
   "cell_type": "code",
   "execution_count": 32,
   "id": "revised-sullivan",
   "metadata": {},
   "outputs": [],
   "source": [
    "X = df.drop('percent_victim_level', axis=1)\n",
    "y = df['percent_victim_level']\n",
    "X_train, X_valid, y_train, y_valid = train_test_split(X, y, test_size=0.2, random_state=5)"
   ]
  },
  {
   "cell_type": "markdown",
   "id": "urban-brooks",
   "metadata": {},
   "source": [
    "## Model Development"
   ]
  },
  {
   "cell_type": "markdown",
   "id": "diagnostic-mobility",
   "metadata": {},
   "source": [
    "### Quantum Model"
   ]
  },
  {
   "cell_type": "code",
   "execution_count": 33,
   "id": "eleven-frederick",
   "metadata": {},
   "outputs": [],
   "source": [
    "df_train = pd.concat([X_train, y_train], axis=1)\n",
    "df_valid = pd.concat([X_valid, y_valid], axis=1)"
   ]
  },
  {
   "cell_type": "code",
   "execution_count": 34,
   "id": "neutral-depression",
   "metadata": {},
   "outputs": [],
   "source": [
    "sample = True\n",
    "if sample:\n",
    "    df_train = df_train.sample(100)\n",
    "    df_valid = df_valid.sample(20)"
   ]
  },
  {
   "cell_type": "code",
   "execution_count": 35,
   "id": "elect-sport",
   "metadata": {},
   "outputs": [],
   "source": [
    "def qiskit_format(df):\n",
    "    input_data = {0:df.query(\"percent_victim_level == 0\").drop(columns='percent_victim_level').values,\n",
    "                  1:df.query(\"percent_victim_level == 1\").drop(columns='percent_victim_level').values}\n",
    "    return input_data"
   ]
  },
  {
   "cell_type": "code",
   "execution_count": 36,
   "id": "traditional-ukraine",
   "metadata": {},
   "outputs": [],
   "source": [
    "input_train = qiskit_format(df_train)\n",
    "input_test = qiskit_format(df_valid)"
   ]
  },
  {
   "cell_type": "code",
   "execution_count": 37,
   "id": "permanent-width",
   "metadata": {},
   "outputs": [],
   "source": [
    "from qiskit import BasicAer\n",
    "from qiskit.circuit.library import ZZFeatureMap\n",
    "from qiskit.aqua import QuantumInstance, aqua_globals\n",
    "from qiskit.aqua.algorithms import QSVM\n",
    "from qiskit import IBMQ"
   ]
  },
  {
   "cell_type": "code",
   "execution_count": 57,
   "id": "illegal-spine",
   "metadata": {},
   "outputs": [
    {
     "data": {
      "text/plain": [
       "(100, 8)"
      ]
     },
     "execution_count": 57,
     "metadata": {},
     "output_type": "execute_result"
    }
   ],
   "source": [
    "nrows, feature_dim = df_train.shape\n",
    "nrows, feature_dim"
   ]
  },
  {
   "cell_type": "code",
   "execution_count": 39,
   "id": "healthy-regulation",
   "metadata": {},
   "outputs": [],
   "source": [
    "feature_map = ZZFeatureMap(feature_dimension=feature_dim, reps=2, entanglement='linear')\n",
    "qsvm = QSVM(feature_map, input_train, input_test)"
   ]
  },
  {
   "cell_type": "code",
   "execution_count": 40,
   "id": "automated-complaint",
   "metadata": {},
   "outputs": [],
   "source": [
    "#provider = IBMQ.load_account()\n",
    "#backend = provider.get_backend('ibmq_qasm_simulator')\n",
    "#print(backend)"
   ]
  },
  {
   "cell_type": "code",
   "execution_count": 41,
   "id": "consistent-honduras",
   "metadata": {},
   "outputs": [
    {
     "name": "stdout",
     "output_type": "stream",
     "text": [
      "CPU times: user 7min 2s, sys: 10.9 s, total: 7min 13s\n",
      "Wall time: 7min 42s\n"
     ]
    }
   ],
   "source": [
    "%%time\n",
    "backend = BasicAer.get_backend('qasm_simulator')\n",
    "quantum_instance = QuantumInstance(backend, shots=512, seed_simulator=36, seed_transpiler=36, wait=1)\n",
    "\n",
    "result = qsvm.run(quantum_instance)"
   ]
  },
  {
   "cell_type": "code",
   "execution_count": 42,
   "id": "balanced-munich",
   "metadata": {},
   "outputs": [
    {
     "name": "stdout",
     "output_type": "stream",
     "text": [
      "Testing success ratio: 0.65\n"
     ]
    }
   ],
   "source": [
    "print(f'Testing success ratio: {result[\"testing_accuracy\"]}')"
   ]
  },
  {
   "cell_type": "markdown",
   "id": "otherwise-quilt",
   "metadata": {},
   "source": [
    "### Classical Computation Model"
   ]
  },
  {
   "cell_type": "code",
   "execution_count": 43,
   "id": "eleven-living",
   "metadata": {},
   "outputs": [],
   "source": [
    "from xgboost import XGBClassifier\n",
    "\n",
    "from sklearn.experimental import enable_hist_gradient_boosting  # noqa\n",
    "from sklearn.ensemble import HistGradientBoostingClassifier, RandomForestClassifier\n",
    "from sklearn.linear_model import LogisticRegression\n",
    "\n",
    "from sklearn.metrics import accuracy_score\n",
    "from sklearn.inspection import plot_partial_dependence, partial_dependence"
   ]
  },
  {
   "cell_type": "code",
   "execution_count": 44,
   "id": "median-relations",
   "metadata": {},
   "outputs": [],
   "source": [
    "for col in list(df.select_dtypes('object').columns):\n",
    "    df[col] = df[col].apply(lambda x: re.sub(\"[^0-9]\", \"\", x)).replace('', np.nan)"
   ]
  },
  {
   "cell_type": "code",
   "execution_count": 45,
   "id": "stable-category",
   "metadata": {},
   "outputs": [],
   "source": [
    "df = df.dropna().astype(float)"
   ]
  },
  {
   "cell_type": "code",
   "execution_count": 46,
   "id": "impossible-stage",
   "metadata": {},
   "outputs": [],
   "source": [
    "X = df.drop('percent_victim_level', axis=1)\n",
    "y = df['percent_victim_level']\n",
    "X_train, X_valid, y_train, y_valid = train_test_split(X, y, test_size=0.2, random_state=5)"
   ]
  },
  {
   "cell_type": "code",
   "execution_count": 47,
   "id": "numeric-infection",
   "metadata": {},
   "outputs": [
    {
     "data": {
      "text/plain": [
       "LogisticRegression(max_iter=500, random_state=36)"
      ]
     },
     "execution_count": 47,
     "metadata": {},
     "output_type": "execute_result"
    }
   ],
   "source": [
    "mod_logit = LogisticRegression(max_iter=500, random_state=36)\n",
    "mod_logit.fit(X_train, y_train)"
   ]
  },
  {
   "cell_type": "code",
   "execution_count": 48,
   "id": "straight-mississippi",
   "metadata": {},
   "outputs": [
    {
     "data": {
      "text/plain": [
       "RandomForestClassifier(random_state=36)"
      ]
     },
     "execution_count": 48,
     "metadata": {},
     "output_type": "execute_result"
    }
   ],
   "source": [
    "mod_rf = RandomForestClassifier(random_state=36)\n",
    "mod_rf.fit(X_train, y_train)"
   ]
  },
  {
   "cell_type": "code",
   "execution_count": 49,
   "id": "willing-consistency",
   "metadata": {},
   "outputs": [
    {
     "data": {
      "text/plain": [
       "HistGradientBoostingClassifier(random_state=36)"
      ]
     },
     "execution_count": 49,
     "metadata": {},
     "output_type": "execute_result"
    }
   ],
   "source": [
    "mod_hgb = HistGradientBoostingClassifier(random_state=36)\n",
    "mod_hgb.fit(X_train, y_train)"
   ]
  },
  {
   "cell_type": "code",
   "execution_count": 50,
   "id": "incredible-equality",
   "metadata": {},
   "outputs": [
    {
     "data": {
      "text/plain": [
       "XGBClassifier(base_score=0.5, booster='gbtree', colsample_bylevel=1,\n",
       "              colsample_bynode=1, colsample_bytree=1, gamma=0, gpu_id=-1,\n",
       "              importance_type='gain', interaction_constraints='',\n",
       "              learning_rate=0.300000012, max_delta_step=0, max_depth=6,\n",
       "              min_child_weight=1, missing=nan, monotone_constraints='()',\n",
       "              n_estimators=100, n_jobs=0, num_parallel_tree=1, random_state=0,\n",
       "              reg_alpha=0, reg_lambda=1, scale_pos_weight=1, subsample=1,\n",
       "              tree_method='exact', validate_parameters=1, verbosity=None)"
      ]
     },
     "execution_count": 50,
     "metadata": {},
     "output_type": "execute_result"
    }
   ],
   "source": [
    "mod_xgb = XGBClassifier(objective='binary:logistic')\n",
    "mod_xgb.fit(X_train, y_train)"
   ]
  },
  {
   "cell_type": "markdown",
   "id": "appropriate-harbor",
   "metadata": {},
   "source": [
    "### Model Explanation and Evaluation"
   ]
  },
  {
   "cell_type": "code",
   "execution_count": 51,
   "id": "talented-application",
   "metadata": {},
   "outputs": [
    {
     "data": {
      "text/plain": [
       "0.0    114\n",
       "1.0    110\n",
       "Name: percent_victim_level, dtype: int64"
      ]
     },
     "execution_count": 51,
     "metadata": {},
     "output_type": "execute_result"
    }
   ],
   "source": [
    "y_valid.value_counts()"
   ]
  },
  {
   "cell_type": "code",
   "execution_count": 52,
   "id": "amber-identifier",
   "metadata": {},
   "outputs": [],
   "source": [
    "def get_acc(mod, X=X_valid, y=y_valid):\n",
    "    y_pred = mod.predict(X)\n",
    "    return accuracy_score(y.values, y_pred)"
   ]
  },
  {
   "cell_type": "code",
   "execution_count": 53,
   "id": "genuine-mention",
   "metadata": {},
   "outputs": [
    {
     "data": {
      "text/html": [
       "<div>\n",
       "<style scoped>\n",
       "    .dataframe tbody tr th:only-of-type {\n",
       "        vertical-align: middle;\n",
       "    }\n",
       "\n",
       "    .dataframe tbody tr th {\n",
       "        vertical-align: top;\n",
       "    }\n",
       "\n",
       "    .dataframe thead th {\n",
       "        text-align: right;\n",
       "    }\n",
       "</style>\n",
       "<table border=\"1\" class=\"dataframe\">\n",
       "  <thead>\n",
       "    <tr style=\"text-align: right;\">\n",
       "      <th></th>\n",
       "      <th>model</th>\n",
       "      <th>accuracy</th>\n",
       "    </tr>\n",
       "  </thead>\n",
       "  <tbody>\n",
       "    <tr>\n",
       "      <th>0</th>\n",
       "      <td>logistic</td>\n",
       "      <td>0.714286</td>\n",
       "    </tr>\n",
       "    <tr>\n",
       "      <th>1</th>\n",
       "      <td>random forest</td>\n",
       "      <td>0.767857</td>\n",
       "    </tr>\n",
       "    <tr>\n",
       "      <th>2</th>\n",
       "      <td>histgradient boosting</td>\n",
       "      <td>0.754464</td>\n",
       "    </tr>\n",
       "    <tr>\n",
       "      <th>3</th>\n",
       "      <td>xgboost</td>\n",
       "      <td>0.741071</td>\n",
       "    </tr>\n",
       "  </tbody>\n",
       "</table>\n",
       "</div>"
      ],
      "text/plain": [
       "                   model  accuracy\n",
       "0               logistic  0.714286\n",
       "1          random forest  0.767857\n",
       "2  histgradient boosting  0.754464\n",
       "3                xgboost  0.741071"
      ]
     },
     "execution_count": 53,
     "metadata": {},
     "output_type": "execute_result"
    }
   ],
   "source": [
    "acc = [get_acc(i) for i in [mod_logit, mod_rf, mod_hgb, mod_xgb]]\n",
    "model = ['logistic', 'random forest', 'histgradient boosting', 'xgboost']\n",
    "pd.DataFrame({'model':model, 'accuracy': acc})"
   ]
  },
  {
   "cell_type": "code",
   "execution_count": 54,
   "id": "sealed-resolution",
   "metadata": {},
   "outputs": [
    {
     "data": {
      "text/html": [
       "<div>\n",
       "<style scoped>\n",
       "    .dataframe tbody tr th:only-of-type {\n",
       "        vertical-align: middle;\n",
       "    }\n",
       "\n",
       "    .dataframe tbody tr th {\n",
       "        vertical-align: top;\n",
       "    }\n",
       "\n",
       "    .dataframe thead th {\n",
       "        text-align: right;\n",
       "    }\n",
       "</style>\n",
       "<table border=\"1\" class=\"dataframe\">\n",
       "  <thead>\n",
       "    <tr style=\"text-align: right;\">\n",
       "      <th></th>\n",
       "      <th>columns</th>\n",
       "      <th>importance</th>\n",
       "    </tr>\n",
       "  </thead>\n",
       "  <tbody>\n",
       "    <tr>\n",
       "      <th>0</th>\n",
       "      <td>share_asian</td>\n",
       "      <td>0.257936</td>\n",
       "    </tr>\n",
       "    <tr>\n",
       "      <th>1</th>\n",
       "      <td>share_hispanic</td>\n",
       "      <td>0.185538</td>\n",
       "    </tr>\n",
       "    <tr>\n",
       "      <th>2</th>\n",
       "      <td>median income</td>\n",
       "      <td>0.137196</td>\n",
       "    </tr>\n",
       "    <tr>\n",
       "      <th>3</th>\n",
       "      <td>share_black</td>\n",
       "      <td>0.124724</td>\n",
       "    </tr>\n",
       "    <tr>\n",
       "      <th>4</th>\n",
       "      <td>percent_completed_hs</td>\n",
       "      <td>0.110980</td>\n",
       "    </tr>\n",
       "    <tr>\n",
       "      <th>5</th>\n",
       "      <td>poverty_rate</td>\n",
       "      <td>0.108360</td>\n",
       "    </tr>\n",
       "    <tr>\n",
       "      <th>6</th>\n",
       "      <td>share_native_american</td>\n",
       "      <td>0.075268</td>\n",
       "    </tr>\n",
       "  </tbody>\n",
       "</table>\n",
       "</div>"
      ],
      "text/plain": [
       "                 columns  importance\n",
       "0            share_asian    0.257936\n",
       "1         share_hispanic    0.185538\n",
       "2          median income    0.137196\n",
       "3            share_black    0.124724\n",
       "4   percent_completed_hs    0.110980\n",
       "5           poverty_rate    0.108360\n",
       "6  share_native_american    0.075268"
      ]
     },
     "execution_count": 54,
     "metadata": {},
     "output_type": "execute_result"
    }
   ],
   "source": [
    "pd.DataFrame({'columns':list(X_train.columns),'importance':mod_rf.feature_importances_}).sort_values('importance', ascending=False, ignore_index=True)"
   ]
  },
  {
   "cell_type": "code",
   "execution_count": 55,
   "id": "medical-muscle",
   "metadata": {},
   "outputs": [
    {
     "data": {
      "image/png": "[encoded data removed]",
      "text/plain": [
       "<Figure size 1008x1008 with 8 Axes>"
      ]
     },
     "metadata": {
      "needs_background": "light"
     },
     "output_type": "display_data"
    }
   ],
   "source": [
    "fig, ax = plt.subplots(figsize=(14, 14))\n",
    "plot_partial_dependence(mod_rf, X_valid, features=[*range(7)], ax=ax)\n",
    "plt.show()"
   ]
  },
  {
   "cell_type": "code",
   "execution_count": null,
   "id": "coral-panic",
   "metadata": {},
   "outputs": [],
   "source": []
  }
 ],
 "metadata": {
  "kernelspec": {
   "display_name": "Python 3",
   "language": "python",
   "name": "python3"
  },
  "language_info": {
   "codemirror_mode": {
    "name": "ipython",
    "version": 3
   },
   "file_extension": ".py",
   "mimetype": "text/x-python",
   "name": "python",
   "nbconvert_exporter": "python",
   "pygments_lexer": "ipython3",
   "version": "3.7.9"
  }
 },
 "nbformat": 4,
 "nbformat_minor": 5
}
